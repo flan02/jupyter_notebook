{
 "cells": [
  {
   "cell_type": "code",
   "execution_count": null,
   "id": "3974ecc8-a5d2-4e63-8cc5-45c78aef0e68",
   "metadata": {},
   "outputs": [],
   "source": [
    "#Sets are a type of collection\n",
    "#this means that like lists and tuples you can input different Python types\n",
    "#unlike lists and tuples they are unordered\n",
    "#this menas sets do not record element position\n",
    "\n",
    "#Sets only have unique elements\n",
    "#this means there is only one of a particular element in a set"
   ]
  },
  {
   "cell_type": "code",
   "execution_count": 1,
   "id": "c5591c84-4e4e-4686-8475-1b2f2f322415",
   "metadata": {},
   "outputs": [
    {
     "name": "stdout",
     "output_type": "stream",
     "text": [
      "{'Jackson', 'Ael', 'Michi'}\n"
     ]
    }
   ],
   "source": [
    "#Sets: Creating a set\n",
    "Set1 = {\"pop\",\"rock\",\"jazz\"}\n",
    "#Type-casting: You can convert a list to set\n",
    "album_list=[\"Michi\",\"Ael\",\"Jackson\"] # starting list\n",
    "album_set=set(album_list) # convert to set\n",
    "print(album_set)"
   ]
  },
  {
   "cell_type": "code",
   "execution_count": 10,
   "id": "7c2f8817-e97a-4823-b168-f212fed1dfe7",
   "metadata": {},
   "outputs": [
    {
     "name": "stdout",
     "output_type": "stream",
     "text": [
      "{'rock', 'pop', 'jazz', 'opera'}\n",
      "True\n",
      "False\n",
      "{'pop', 'rock', 'jazz'}\n",
      "{'reggaeton', 'pop', 'rock', 'jazz', 'opera'}\n"
     ]
    },
    {
     "data": {
      "text/plain": [
       "False"
      ]
     },
     "execution_count": 10,
     "metadata": {},
     "output_type": "execute_result"
    }
   ],
   "source": [
    "#Set operations\n",
    "A = {\"pop\",\"rock\",\"jazz\", \"opera\"}\n",
    "A.add(\"blues\")\n",
    "A.remove(\"blues\")\n",
    "print(A)\n",
    "print('rock' in A) # True\n",
    "print('cumbia' in A) # False\n",
    "\n",
    "B = {\"pop\",\"rock\",\"jazz\", \"reggaeton\"}\n",
    "print(A & B) # intersection between A and B\n",
    "\n",
    "print(A | B) # union between A + B\n",
    "A.union(B) # idem above \n",
    "\n",
    "B.issubset(A) # it asks if B exist in A elements"
   ]
  },
  {
   "cell_type": "code",
   "execution_count": null,
   "id": "d20493f1-e153-4396-ac7e-a3c7e8421855",
   "metadata": {},
   "outputs": [],
   "source": []
  }
 ],
 "metadata": {
  "kernelspec": {
   "display_name": "anaconda-panel-2023.05-py310",
   "language": "python",
   "name": "conda-env-anaconda-panel-2023.05-py310-py"
  },
  "language_info": {
   "codemirror_mode": {
    "name": "ipython",
    "version": 3
   },
   "file_extension": ".py",
   "mimetype": "text/x-python",
   "name": "python",
   "nbconvert_exporter": "python",
   "pygments_lexer": "ipython3",
   "version": "3.11.4"
  }
 },
 "nbformat": 4,
 "nbformat_minor": 5
}

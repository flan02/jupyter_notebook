{
 "cells": [
  {
   "cell_type": "code",
   "execution_count": 1,
   "id": "627910a9-afc1-4680-98a8-226220fa07de",
   "metadata": {},
   "outputs": [
    {
     "name": "stdout",
     "output_type": "stream",
     "text": [
      "False\n"
     ]
    }
   ],
   "source": [
    "#Conditionals\n",
    "##\n",
    "a=6\n",
    "print(a==7) # False"
   ]
  },
  {
   "cell_type": "code",
   "execution_count": 3,
   "id": "d5bcad01-404a-4544-8b7e-8665ab8cd120",
   "metadata": {},
   "outputs": [
    {
     "name": "stdout",
     "output_type": "stream",
     "text": [
      "True\n"
     ]
    }
   ],
   "source": [
    "i=2\n",
    "print(i>=2) # True"
   ]
  },
  {
   "cell_type": "code",
   "execution_count": 5,
   "id": "26102ec4-b4c3-4ccb-8eda-22e77df4e328",
   "metadata": {},
   "outputs": [
    {
     "name": "stdout",
     "output_type": "stream",
     "text": [
      "True\n"
     ]
    }
   ],
   "source": [
    "#Inequality test\n",
    "i=5\n",
    "print(i!=6) #True"
   ]
  },
  {
   "cell_type": "code",
   "execution_count": 11,
   "id": "f03c1128-0ac6-4cc1-9932-26090d499614",
   "metadata": {},
   "outputs": [
    {
     "name": "stdout",
     "output_type": "stream",
     "text": [
      "False\n",
      "True\n"
     ]
    }
   ],
   "source": [
    "print(\"AC/DC\" == \"Michael Jackson\") #False\n",
    "print(\"AC/DC\" != \"Michael Jackson\") #True"
   ]
  },
  {
   "cell_type": "code",
   "execution_count": 32,
   "id": "9594df90-4d4f-4e18-ab39-d460a5102599",
   "metadata": {},
   "outputs": [
    {
     "name": "stdout",
     "output_type": "stream",
     "text": [
      "you can enter\n",
      "move on\n"
     ]
    }
   ],
   "source": [
    "#Branching\n",
    "##\n",
    "#The if Statement\n",
    "#the brackets are no necessary, we have a colon and indent\n",
    "age=19\n",
    "if(age>18):\n",
    "    print(\"you can enter\") # Only if the condition is True\n",
    "print(\"move on\") # this line is running regardless the conditional result\n"
   ]
  },
  {
   "cell_type": "code",
   "execution_count": 34,
   "id": "4e22b357-74d7-42d3-b1ec-b3e8b42274be",
   "metadata": {},
   "outputs": [
    {
     "name": "stdout",
     "output_type": "stream",
     "text": [
      "go see Meat Loaf\n",
      "move on\n"
     ]
    }
   ],
   "source": [
    "#Branching\n",
    "##\n",
    "#The else Statement\n",
    "age=7\n",
    "if(age>18):\n",
    "    print(\"you can enter\")\n",
    "else:\n",
    "    print(\"go see Meat Loaf\")\n",
    "print(\"move on\")"
   ]
  },
  {
   "cell_type": "code",
   "execution_count": 41,
   "id": "3dd865b5-756a-4a32-8274-c04e62d5d2c2",
   "metadata": {},
   "outputs": [
    {
     "name": "stdout",
     "output_type": "stream",
     "text": [
      "go see Pink Floyd\n",
      "move on\n"
     ]
    }
   ],
   "source": [
    "#Branching\n",
    "##\n",
    "#The elif Statement\n",
    "#short for \"else if\"\n",
    "age=18\n",
    "if(age>18):\n",
    "    print(\"you can enter\")\n",
    "elif(age==18):\n",
    "        print(\"go see Pink Floyd\")\n",
    "else:\n",
    "        print(\"go see Meat Loaf\")\n",
    "print(\"move on\") #this line running regardless if conditional result\n",
    "\n"
   ]
  },
  {
   "cell_type": "code",
   "execution_count": 49,
   "id": "59bc72e3-46b9-4415-84e0-70fa1ccc09a7",
   "metadata": {},
   "outputs": [
    {
     "name": "stdout",
     "output_type": "stream",
     "text": [
      "The Album wasn't made in the 1980's\n",
      "This album was made in the 80's\n"
     ]
    }
   ],
   "source": [
    "#Logic operators\n",
    "##\n",
    "not(True)\n",
    "not(False)\n",
    "\n",
    "#(A or B) #False only A and B are False. In other cases the results is True\n",
    "album_year=1990\n",
    "if(album_year < 1980) or (album_year > 1989):\n",
    "    print(\"The Album wasn't made in the 1980's\")\n",
    "else:\n",
    "    print(\"The Album was made in the 1980's\")\n",
    "    \n",
    "#(A and B) #True only A and B are True. In other cases the results is False\n",
    "album_year=1983\n",
    "if(album_year > 1979) and (album_year < 1990):\n",
    "    print(\"This album was made in the 80's\")"
   ]
  },
  {
   "cell_type": "code",
   "execution_count": null,
   "id": "76b2611e-7e75-4f26-9734-5fba4f433d19",
   "metadata": {},
   "outputs": [],
   "source": []
  },
  {
   "cell_type": "code",
   "execution_count": null,
   "id": "ee77eb68-82a4-405d-8ce5-57b0d9c42ea4",
   "metadata": {},
   "outputs": [],
   "source": []
  }
 ],
 "metadata": {
  "kernelspec": {
   "display_name": "anaconda-panel-2023.05-py310",
   "language": "python",
   "name": "conda-env-anaconda-panel-2023.05-py310-py"
  },
  "language_info": {
   "codemirror_mode": {
    "name": "ipython",
    "version": 3
   },
   "file_extension": ".py",
   "mimetype": "text/x-python",
   "name": "python",
   "nbconvert_exporter": "python",
   "pygments_lexer": "ipython3",
   "version": "3.11.4"
  }
 },
 "nbformat": 4,
 "nbformat_minor": 5
}

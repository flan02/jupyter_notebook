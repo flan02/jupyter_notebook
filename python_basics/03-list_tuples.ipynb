{
 "cells": [
  {
   "cell_type": "code",
   "execution_count": 6,
   "id": "3baf6bd3-fc75-467c-9204-427ce0a9aa8e",
   "metadata": {},
   "outputs": [
    {
     "name": "stdout",
     "output_type": "stream",
     "text": [
      "9\n",
      "(10, 9, 6, 5, 8, 'hard rock', 19)\n",
      "(6, 5)\n"
     ]
    }
   ],
   "source": [
    "#multi-line comments: CTRL + /\n",
    "# Tuples\n",
    "# this is and ordered sequence\n",
    "# here is a tuple \"ratings\"\n",
    "# tuples are written as comma-separated elements within parentheses\n",
    "Ratings=(10,9,6,5,8)\n",
    "print(Ratings[1]) #9\n",
    "#We can use the negative index with tuples (-1,-2,-n)\n",
    "#Also tuples enables concat with others.\n",
    "tuple2 = Ratings + (\"hard rock\", 19)\n",
    "print(tuple2) # mix of ratings plus tuple2 itself\n",
    "#We can also slice tuples\n",
    "print(Ratings[2:4]) # 6,5\n"
   ]
  },
  {
   "cell_type": "code",
   "execution_count": 11,
   "id": "9a90ac80-93e1-4ae3-8351-1aeed16be877",
   "metadata": {},
   "outputs": [
    {
     "name": "stdout",
     "output_type": "stream",
     "text": [
      "(10, 9, 6, 5, 8)\n",
      "[5, 6, 8, 9, 10]\n",
      "[5, 6, 8, 9, 10]\n",
      "(10, 9, 6, 5, 8)\n"
     ]
    }
   ],
   "source": [
    "#Tuples: inmutable\n",
    "Ratings=(10,9,6,5,8)\n",
    "Ratings1=Ratings\n",
    "print(Ratings1)\n",
    "RatingsSorted=sorted(Ratings)\n",
    "print(RatingsSorted) #Ordeno de mayor a menor\n",
    "RatingsSorted=sorted(Ratings1)\n",
    "print(RatingsSorted) #Ordeno de mayor a menor\n",
    "Ratings=(\"a\",\"b\",\"c\")\n",
    "print(Ratings1) # Ratings changed but Ratings1 didnt change"
   ]
  },
  {
   "cell_type": "code",
   "execution_count": 3,
   "id": "4e15e10f-1701-4154-8477-a19310716f53",
   "metadata": {},
   "outputs": [
    {
     "name": "stdout",
     "output_type": "stream",
     "text": [
      "('pop', 'rock')\n",
      "rock\n"
     ]
    }
   ],
   "source": [
    "#Tuples: Nesting\n",
    "NT=(1,2,(\"pop\",\"rock\"),(3,4),(\"disco\",(1,2)))\n",
    "print(NT[2]) # Access to values of nesting tuple\n",
    "print(NT[2][1]) #Rock\n",
    "\n"
   ]
  },
  {
   "cell_type": "code",
   "execution_count": 7,
   "id": "c50c0dba-4619-4c6c-b924-f872be657aad",
   "metadata": {},
   "outputs": [
    {
     "name": "stdout",
     "output_type": "stream",
     "text": [
      "['Michael Jackson', 10.1, 1982, 'pop', 45]\n",
      "['Michael Jackson', 10.1, 1982, 'pop', 45, ['pop', 10, 23, 'asd']]\n",
      "['new value', 10.1, 1982, 'pop', 45, ['pop', 10, 23, 'asd']]\n",
      "[10.1, 1982, 'pop', 45, ['pop', 10, 23, 'asd']]\n"
     ]
    }
   ],
   "source": [
    "#List: also a popular data structure in Python\n",
    "#List mutable an is represented with square brackets\n",
    "L=['Michael Jackson', 10.1, 1982] #Strings, floats, integer\n",
    "#We can access to each element by list index number\n",
    "#Lists: Slicing, concatenate too.\n",
    "L.extend(['pop',45]) #add to original L\n",
    "print(L)\n",
    "L.append(['pop',10,23,'asd']) #add the list as only new element to original list\n",
    "print(L)\n",
    "L[0]='new value' #lists enables reassing indexes\n",
    "print(L)\n",
    "del(L[0]) # we remove the first element\n",
    "print(L) # 'new value' has gone"
   ]
  },
  {
   "cell_type": "code",
   "execution_count": 10,
   "id": "583b25f6-9c29-48b5-97a4-cb3b07304cc7",
   "metadata": {},
   "outputs": [
    {
     "name": "stdout",
     "output_type": "stream",
     "text": [
      "['hard', 'rock']\n"
     ]
    },
    {
     "data": {
      "text/plain": [
       "['A', 'B', 'C', 'D']"
      ]
     },
     "execution_count": 10,
     "metadata": {},
     "output_type": "execute_result"
    }
   ],
   "source": [
    "# Convert String to List\n",
    "print(\"hard rock\".split()) # [\"hard\",\"rock\"]\n",
    "#We can use the split fc to separate string on a specific character\n",
    "\"A,B,C,D\".split(\",\")\n",
    "\n"
   ]
  },
  {
   "cell_type": "code",
   "execution_count": 13,
   "id": "4d59b56c-0017-446b-8374-09d5d27eda91",
   "metadata": {},
   "outputs": [
    {
     "name": "stdout",
     "output_type": "stream",
     "text": [
      "banana\n",
      "melon\n",
      "['melon', 'apple']\n"
     ]
    }
   ],
   "source": [
    "#Lists: Aliasing\n",
    "A=[\"banana\",\"apple\"]\n",
    "B=A\n",
    "print(B[0])\n",
    "A[0]=\"melon\"\n",
    "print(B[0]) # B[0] has changed implicity\n",
    "\n",
    "#Lists: Clone\n",
    "C=A[:] # new copy or clone of the original list\n",
    "#If you changed A then C won't change.\n",
    "print(C)"
   ]
  },
  {
   "cell_type": "code",
   "execution_count": 15,
   "id": "bd0804d3-be82-4e02-913b-25ac1b9b4df3",
   "metadata": {},
   "outputs": [
    {
     "name": "stdout",
     "output_type": "stream",
     "text": [
      "Help on list object:\n",
      "\n",
      "class list(object)\n",
      " |  list(iterable=(), /)\n",
      " |  \n",
      " |  Built-in mutable sequence.\n",
      " |  \n",
      " |  If no argument is given, the constructor creates a new empty list.\n",
      " |  The argument must be an iterable if specified.\n",
      " |  \n",
      " |  Methods defined here:\n",
      " |  \n",
      " |  __add__(self, value, /)\n",
      " |      Return self+value.\n",
      " |  \n",
      " |  __contains__(self, key, /)\n",
      " |      Return key in self.\n",
      " |  \n",
      " |  __delitem__(self, key, /)\n",
      " |      Delete self[key].\n",
      " |  \n",
      " |  __eq__(self, value, /)\n",
      " |      Return self==value.\n",
      " |  \n",
      " |  __ge__(self, value, /)\n",
      " |      Return self>=value.\n",
      " |  \n",
      " |  __getattribute__(self, name, /)\n",
      " |      Return getattr(self, name).\n",
      " |  \n",
      " |  __getitem__(...)\n",
      " |      x.__getitem__(y) <==> x[y]\n",
      " |  \n",
      " |  __gt__(self, value, /)\n",
      " |      Return self>value.\n",
      " |  \n",
      " |  __iadd__(self, value, /)\n",
      " |      Implement self+=value.\n",
      " |  \n",
      " |  __imul__(self, value, /)\n",
      " |      Implement self*=value.\n",
      " |  \n",
      " |  __init__(self, /, *args, **kwargs)\n",
      " |      Initialize self.  See help(type(self)) for accurate signature.\n",
      " |  \n",
      " |  __iter__(self, /)\n",
      " |      Implement iter(self).\n",
      " |  \n",
      " |  __le__(self, value, /)\n",
      " |      Return self<=value.\n",
      " |  \n",
      " |  __len__(self, /)\n",
      " |      Return len(self).\n",
      " |  \n",
      " |  __lt__(self, value, /)\n",
      " |      Return self<value.\n",
      " |  \n",
      " |  __mul__(self, value, /)\n",
      " |      Return self*value.\n",
      " |  \n",
      " |  __ne__(self, value, /)\n",
      " |      Return self!=value.\n",
      " |  \n",
      " |  __repr__(self, /)\n",
      " |      Return repr(self).\n",
      " |  \n",
      " |  __reversed__(self, /)\n",
      " |      Return a reverse iterator over the list.\n",
      " |  \n",
      " |  __rmul__(self, value, /)\n",
      " |      Return value*self.\n",
      " |  \n",
      " |  __setitem__(self, key, value, /)\n",
      " |      Set self[key] to value.\n",
      " |  \n",
      " |  __sizeof__(self, /)\n",
      " |      Return the size of the list in memory, in bytes.\n",
      " |  \n",
      " |  append(self, object, /)\n",
      " |      Append object to the end of the list.\n",
      " |  \n",
      " |  clear(self, /)\n",
      " |      Remove all items from list.\n",
      " |  \n",
      " |  copy(self, /)\n",
      " |      Return a shallow copy of the list.\n",
      " |  \n",
      " |  count(self, value, /)\n",
      " |      Return number of occurrences of value.\n",
      " |  \n",
      " |  extend(self, iterable, /)\n",
      " |      Extend list by appending elements from the iterable.\n",
      " |  \n",
      " |  index(self, value, start=0, stop=9223372036854775807, /)\n",
      " |      Return first index of value.\n",
      " |      \n",
      " |      Raises ValueError if the value is not present.\n",
      " |  \n",
      " |  insert(self, index, object, /)\n",
      " |      Insert object before index.\n",
      " |  \n",
      " |  pop(self, index=-1, /)\n",
      " |      Remove and return item at index (default last).\n",
      " |      \n",
      " |      Raises IndexError if list is empty or index is out of range.\n",
      " |  \n",
      " |  remove(self, value, /)\n",
      " |      Remove first occurrence of value.\n",
      " |      \n",
      " |      Raises ValueError if the value is not present.\n",
      " |  \n",
      " |  reverse(self, /)\n",
      " |      Reverse *IN PLACE*.\n",
      " |  \n",
      " |  sort(self, /, *, key=None, reverse=False)\n",
      " |      Sort the list in ascending order and return None.\n",
      " |      \n",
      " |      The sort is in-place (i.e. the list itself is modified) and stable (i.e. the\n",
      " |      order of two equal elements is maintained).\n",
      " |      \n",
      " |      If a key function is given, apply it once to each list item and sort them,\n",
      " |      ascending or descending, according to their function values.\n",
      " |      \n",
      " |      The reverse flag can be set to sort in descending order.\n",
      " |  \n",
      " |  ----------------------------------------------------------------------\n",
      " |  Class methods defined here:\n",
      " |  \n",
      " |  __class_getitem__(...) from builtins.type\n",
      " |      See PEP 585\n",
      " |  \n",
      " |  ----------------------------------------------------------------------\n",
      " |  Static methods defined here:\n",
      " |  \n",
      " |  __new__(*args, **kwargs) from builtins.type\n",
      " |      Create and return a new object.  See help(type) for accurate signature.\n",
      " |  \n",
      " |  ----------------------------------------------------------------------\n",
      " |  Data and other attributes defined here:\n",
      " |  \n",
      " |  __hash__ = None\n",
      "\n",
      "None\n"
     ]
    }
   ],
   "source": [
    "A=[]\n",
    "print(help(A)) #with help we can see type of variable methods !"
   ]
  },
  {
   "cell_type": "code",
   "execution_count": null,
   "id": "a27a4d1c-1760-4fd0-80fc-9cae92a7bdc8",
   "metadata": {},
   "outputs": [],
   "source": []
  }
 ],
 "metadata": {
  "kernelspec": {
   "display_name": "anaconda-panel-2023.05-py310",
   "language": "python",
   "name": "conda-env-anaconda-panel-2023.05-py310-py"
  },
  "language_info": {
   "codemirror_mode": {
    "name": "ipython",
    "version": 3
   },
   "file_extension": ".py",
   "mimetype": "text/x-python",
   "name": "python",
   "nbconvert_exporter": "python",
   "pygments_lexer": "ipython3",
   "version": "3.11.4"
  }
 },
 "nbformat": 4,
 "nbformat_minor": 5
}

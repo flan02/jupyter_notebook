{
 "cells": [
  {
   "cell_type": "code",
   "execution_count": 6,
   "id": "cf228b04-eea8-4e9b-9659-5c67b8603a7b",
   "metadata": {},
   "outputs": [
    {
     "name": "stdout",
     "output_type": "stream",
     "text": [
      "{'Thriller': 1982, 'Batman Begins': 2005, 'Morbius': 2021, 'Maze Runner': 2014}\n",
      "1982\n",
      "{'Thriller': 1982, 'Batman Begins': 2005, 'Morbius': 2021, 'Maze Runner': 2014, 'Spiderman no way home': 2020}\n",
      "False\n",
      "dict_keys(['Thriller', 'Batman Begins', 'Morbius', 'Maze Runner', 'Spiderman no way home'])\n",
      "dict_values([1982, 2005, 2021, 2014, 2020])\n"
     ]
    }
   ],
   "source": [
    "# Dictionaries (is a type of collection)\n",
    "\n",
    "# List has indexes with elements\n",
    "# Dictionaries has keys and values\n",
    "DICT={\"Thriller\": 1982,\n",
    "      \"Batman Begins\": 2005,\n",
    "      \"Morbius\": 2021,\n",
    "      \"Maze Runner\": 2014\n",
    "     }\n",
    "print(DICT)\n",
    "print(DICT[\"Thriller\"]) # 1982\n",
    "DICT[\"Spiderman no way home\"] = 2020 # add a new pair key-value\n",
    "print(DICT)\n",
    "\n",
    "print(\"Starboy\" in DICT)\n",
    "\n",
    "#We can access to all keys names\n",
    "print(DICT.keys())\n",
    "#We can access to all values\n",
    "print(DICT.values()) # [0,1,2] -> each pos.\n"
   ]
  },
  {
   "cell_type": "code",
   "execution_count": null,
   "id": "d5c6f9ac-0a9b-4d3c-9b64-570a4edf47f4",
   "metadata": {},
   "outputs": [],
   "source": []
  }
 ],
 "metadata": {
  "kernelspec": {
   "display_name": "anaconda-panel-2023.05-py310",
   "language": "python",
   "name": "conda-env-anaconda-panel-2023.05-py310-py"
  },
  "language_info": {
   "codemirror_mode": {
    "name": "ipython",
    "version": 3
   },
   "file_extension": ".py",
   "mimetype": "text/x-python",
   "name": "python",
   "nbconvert_exporter": "python",
   "pygments_lexer": "ipython3",
   "version": "3.11.4"
  }
 },
 "nbformat": 4,
 "nbformat_minor": 5
}

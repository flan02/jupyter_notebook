{
 "cells": [
  {
   "cell_type": "markdown",
   "id": "040c997b",
   "metadata": {
    "id": "040c997b"
   },
   "source": [
    "# The Easiest Way to Create an Interactive Dashboard in Python\n",
    "\n",
    "This notebook accompanies the blog, which can be found [here](https://towardsdatascience.com/the-easiest-way-to-create-an-interactive-dashboard-in-python-77440f2511d1)\n",
    "\n",
    "**The Easiest Way to Create an Interactive Dashboard in Python. Turn Pandas pipelines into a\n",
    "dashboard using hvplot `.interactive`**\n",
    "\n",
    "by *Sophia Yang* and *Marc Skov Madsen*.\n",
    "\n",
    "![Data App](https://github.com/sophiamyang/hvplot_interactive/blob/HEAD/assets/easy-dataframe-dashboards.gif?raw=1)\n",
    "\n",
    "Source: https://github.com/sophiamyang/hvplot_interactive"
   ]
  },
  {
   "cell_type": "markdown",
   "id": "abf60b58",
   "metadata": {
    "id": "abf60b58"
   },
   "source": [
    "## Import and configure packages"
   ]
  },
  {
   "cell_type": "code",
   "execution_count": null,
   "id": "0f1112af",
   "metadata": {
    "id": "0f1112af"
   },
   "outputs": [],
   "source": [
    "import panel as pn\n",
    "\n",
    "pn.extension('tabulator', sizing_mode=\"stretch_width\")"
   ]
  },
  {
   "cell_type": "code",
   "execution_count": null,
   "id": "5adb11a6",
   "metadata": {
    "id": "5adb11a6"
   },
   "outputs": [],
   "source": [
    "import hvplot.pandas\n",
    "import holoviews as hv\n",
    "\n",
    "hv.extension('bokeh')"
   ]
  },
  {
   "cell_type": "markdown",
   "id": "2db7ad42",
   "metadata": {
    "id": "2db7ad42"
   },
   "source": [
    "## Define function to determine environment"
   ]
  },
  {
   "cell_type": "code",
   "execution_count": null,
   "id": "7196bce1",
   "metadata": {
    "id": "7196bce1"
   },
   "outputs": [],
   "source": [
    "def environment():\n",
    "    try:\n",
    "        get_ipython()\n",
    "        return \"notebook\"\n",
    "    except:\n",
    "        return \"server\"\n",
    "environment()"
   ]
  },
  {
   "cell_type": "markdown",
   "id": "ef4ccd06",
   "metadata": {
    "id": "ef4ccd06"
   },
   "source": [
    "## Define Color Palette"
   ]
  },
  {
   "cell_type": "code",
   "execution_count": null,
   "id": "ce8c5f82",
   "metadata": {
    "id": "ce8c5f82"
   },
   "outputs": [],
   "source": [
    "PALETTE = [\"#ff6f69\", \"#ffcc5c\", \"#88d8b0\", ]\n",
    "pn.Row(\n",
    "    pn.layout.HSpacer(height=50, background=PALETTE[0]),\n",
    "    pn.layout.HSpacer(height=50, background=PALETTE[1]),\n",
    "    pn.layout.HSpacer(height=50, background=PALETTE[2]),\n",
    ")"
   ]
  },
  {
   "cell_type": "markdown",
   "id": "7698a74c",
   "metadata": {
    "id": "7698a74c"
   },
   "source": [
    "## Load Data"
   ]
  },
  {
   "cell_type": "code",
   "execution_count": null,
   "id": "09d60a44",
   "metadata": {
    "id": "09d60a44"
   },
   "outputs": [],
   "source": [
    "from bokeh.sampledata.autompg import autompg_clean as df\n",
    "df.head()"
   ]
  },
  {
   "cell_type": "markdown",
   "id": "1bfed521",
   "metadata": {
    "id": "1bfed521"
   },
   "source": [
    "## Define DataFrame Pipeline"
   ]
  },
  {
   "cell_type": "code",
   "execution_count": null,
   "id": "4a42b6e5",
   "metadata": {
    "id": "4a42b6e5"
   },
   "outputs": [],
   "source": [
    "(\n",
    "    df[\n",
    "        (df.cyl == 4) & \n",
    "        (df.mfr.isin(['ford','chevrolet']))\n",
    "    ]\n",
    "    .groupby(['origin', 'cyl', 'mfr', 'yr'])['hp'].mean()\n",
    "    .to_frame()\n",
    "    .reset_index()\n",
    "    .sort_values(by='yr')\n",
    ").head(1)"
   ]
  },
  {
   "cell_type": "markdown",
   "id": "f928f0ba",
   "metadata": {
    "id": "f928f0ba"
   },
   "source": [
    "## Make DataFrame Pipeline Interactive"
   ]
  },
  {
   "cell_type": "code",
   "execution_count": null,
   "id": "6e12aa62",
   "metadata": {
    "id": "6e12aa62"
   },
   "outputs": [],
   "source": [
    "idf = df.interactive()"
   ]
  },
  {
   "cell_type": "markdown",
   "id": "835b20da",
   "metadata": {
    "id": "835b20da"
   },
   "source": [
    "Define [Panel widgets](https://panel.holoviz.org/reference/index.html#widgets)"
   ]
  },
  {
   "cell_type": "code",
   "execution_count": null,
   "id": "956fa985",
   "metadata": {
    "id": "956fa985"
   },
   "outputs": [],
   "source": [
    "cylinders = pn.widgets.IntSlider(name='Cylinders', start=4, end=8, step=2)\n",
    "mfr = pn.widgets.ToggleGroup(\n",
    "    name='MFR',\n",
    "    options=['ford', 'chevrolet', 'honda', 'toyota', 'audi'], \n",
    "    value=['ford', 'chevrolet', 'honda', 'toyota', 'audi'],\n",
    "    button_type='success')\n",
    "yaxis = pn.widgets.RadioButtonGroup(\n",
    "    name='Y axis', \n",
    "    options=['hp', 'weight'],\n",
    "    button_type='success'\n",
    ")"
   ]
  },
  {
   "cell_type": "markdown",
   "id": "743aa619",
   "metadata": {
    "id": "743aa619"
   },
   "source": [
    "Combine pipeline and widgets"
   ]
  },
  {
   "cell_type": "code",
   "execution_count": null,
   "id": "b8883956",
   "metadata": {
    "id": "b8883956"
   },
   "outputs": [],
   "source": [
    "ipipeline = (\n",
    "    idf[\n",
    "        (idf.cyl == cylinders) & \n",
    "        (idf.mfr.isin(mfr))\n",
    "    ]\n",
    "    .groupby(['origin', 'mpg'])[yaxis].mean()\n",
    "    .to_frame()\n",
    "    .reset_index()\n",
    "    .sort_values(by='mpg')  \n",
    "    .reset_index(drop=True)\n",
    ")\n",
    "ipipeline.head()"
   ]
  },
  {
   "cell_type": "markdown",
   "id": "bff77abf",
   "metadata": {
    "id": "bff77abf"
   },
   "source": [
    "## Pipe to Table"
   ]
  },
  {
   "cell_type": "code",
   "execution_count": null,
   "id": "95cfca51",
   "metadata": {
    "id": "95cfca51"
   },
   "outputs": [],
   "source": [
    "if environment()==\"server\":\n",
    "   theme=\"fast\"\n",
    "else:\n",
    "   theme=\"simple\""
   ]
  },
  {
   "cell_type": "code",
   "execution_count": null,
   "id": "d262cb39",
   "metadata": {
    "id": "d262cb39"
   },
   "outputs": [],
   "source": [
    "itable = ipipeline.pipe(pn.widgets.Tabulator, pagination='remote', page_size=10, theme=theme)\n",
    "itable"
   ]
  },
  {
   "cell_type": "markdown",
   "id": "b21344a1",
   "metadata": {
    "id": "b21344a1"
   },
   "source": [
    "Check out the [Tabulator Reference Guide](https://panel.holoviz.org/reference/widgets/Tabulator.html) for more inspiration."
   ]
  },
  {
   "cell_type": "markdown",
   "id": "246398c8",
   "metadata": {
    "id": "246398c8"
   },
   "source": [
    "## Pipe to hvplot"
   ]
  },
  {
   "cell_type": "code",
   "execution_count": null,
   "id": "b958a6e1",
   "metadata": {
    "id": "b958a6e1"
   },
   "outputs": [],
   "source": [
    "ihvplot = ipipeline.hvplot(x='mpg', y=yaxis, by='origin', color=PALETTE, line_width=6, height=400)\n",
    "ihvplot"
   ]
  }
 ],
 "metadata": {
  "colab": {
   "provenance": []
  },
  "kernelspec": {
   "display_name": "anaconda-2022.05-py39",
   "language": "python",
   "name": "conda-env-anaconda-2022.05-py39-py"
  },
  "language_info": {
   "codemirror_mode": {
    "name": "ipython",
    "version": 3
   },
   "file_extension": ".py",
   "mimetype": "text/x-python",
   "name": "python",
   "nbconvert_exporter": "python",
   "pygments_lexer": "ipython3",
   "version": "3.9.12"
  }
 },
 "nbformat": 4,
 "nbformat_minor": 5
}

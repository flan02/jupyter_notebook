{
 "cells": [
  {
   "cell_type": "markdown",
   "metadata": {},
   "source": [
    "This notebook is an example of what you can achieve with Jupyter, Pandas, and SciKit Learn, etc. Please feel free to edit and run the code here. "
   ]
  },
  {
   "cell_type": "markdown",
   "metadata": {},
   "source": [
    "# Predicting Pittsburgh Bike-share Rides"
   ]
  },
  {
   "cell_type": "markdown",
   "metadata": {
    "jp-MarkdownHeadingCollapsed": true
   },
   "source": [
    "This example takes a data set from a Pittsburgh bike-share company and shows the strong correlation between the maximum temperature and the number of rides taken for a given day. The data set contains other variables, such as month or holiday, so feel free to modify the code to explore the data further!"
   ]
  },
  {
   "cell_type": "markdown",
   "metadata": {},
   "source": [
    "## Load the dataset"
   ]
  },
  {
   "cell_type": "markdown",
   "metadata": {},
   "source": [
    "First we'll import the packages we need and load the data set from a csv file."
   ]
  },
  {
   "cell_type": "code",
   "execution_count": null,
   "metadata": {},
   "outputs": [],
   "source": [
    "import warnings\n",
    "warnings.filterwarnings(\"ignore\")\n",
    "import io\n",
    "import pandas as pd\n",
    "import matplotlib.pyplot as plt"
   ]
  },
  {
   "cell_type": "code",
   "execution_count": null,
   "metadata": {},
   "outputs": [],
   "source": [
    "df = pd.read_csv('https://jupyterlite.anaconda.cloud/b0df9a1c-3954-4c78-96e6-07ab473bea1a/files/bikeshare.csv')\n",
    "df.head()"
   ]
  },
  {
   "cell_type": "markdown",
   "metadata": {},
   "source": [
    "# Visualize temperature and number of rides"
   ]
  },
  {
   "cell_type": "markdown",
   "metadata": {},
   "source": [
    "Next we visualize the maximum temperature and number of rides. The correlation looks pretty strong, but appearances can be deceiving. Feel free to modify this code to look at other variables, like `Holiday` or `home_game`!"
   ]
  },
  {
   "cell_type": "markdown",
   "metadata": {},
   "source": [
    "<div class=\"alert alert-block alert-info\">\n",
    "<h4>Info</h4>\n",
    "\n",
    "A few of the cells below may take a few seconds to run. Watch the gray brackets to the left of the cell. If there's an * in the brackets (i.e. `[*]` ) it means it's still working"
   ]
  },
  {
   "cell_type": "code",
   "execution_count": null,
   "metadata": {},
   "outputs": [],
   "source": [
    "df_temp_rides = df.set_index('Date')[['Max Temp','n_rides']]\n",
    "fig, axs = plt.subplots(2, 1, figsize=(18,6))\n",
    "plot_temp = axs[0]\n",
    "plot_rides = axs[1]\n",
    "plot_temp.set_xlabel('Day')\n",
    "plot_temp.set_ylabel('Max Temperature')\n",
    "plot_temp.plot(df_temp_rides['Max Temp'])\n",
    "plot_rides.set_xlabel('Day')\n",
    "plot_rides.set_ylabel('Number of Rides')\n",
    "plot_rides.plot(df_temp_rides['n_rides'])\n",
    "plt.show()"
   ]
  },
  {
   "cell_type": "markdown",
   "metadata": {},
   "source": [
    "# Grid search with a gradient boosting regressor"
   ]
  },
  {
   "cell_type": "markdown",
   "metadata": {},
   "source": [
    "Lastly, we apply a grid search using a gradient boosting regressor to see how strongly each variable contributes to the `n_rides` prediction. We take 20% of the dataset to train and then validate the estimator scores returned from the grid search."
   ]
  },
  {
   "cell_type": "code",
   "execution_count": null,
   "metadata": {},
   "outputs": [],
   "source": [
    "from sklearn.model_selection import GridSearchCV, train_test_split\n",
    "from sklearn.preprocessing import MinMaxScaler\n",
    "from sklearn.pipeline import make_pipeline\n",
    "from sklearn.ensemble import GradientBoostingRegressor"
   ]
  },
  {
   "cell_type": "code",
   "execution_count": null,
   "metadata": {},
   "outputs": [],
   "source": [
    "X = pd.get_dummies(df, columns=['Month'], drop_first=True).drop(['Date','n_rides'], axis='columns')\n",
    "y = df['n_rides']\n",
    "\n",
    "X_train, X_valid, y_train, y_valid = train_test_split(X, y, test_size=0.2)"
   ]
  },
  {
   "cell_type": "code",
   "execution_count": null,
   "metadata": {},
   "outputs": [],
   "source": [
    "model = make_pipeline(MinMaxScaler(), GradientBoostingRegressor())\n",
    "params = {'gradientboostingregressor__max_depth': range(3, 20)}\n",
    "grid = GridSearchCV(model, params, cv=5)\n",
    "\n",
    "grid.fit(X_train, y_train)\n",
    "\n",
    "grid.best_estimator_.score(X_valid, y_valid)"
   ]
  },
  {
   "cell_type": "code",
   "execution_count": null,
   "metadata": {},
   "outputs": [],
   "source": [
    "grid.best_params_"
   ]
  },
  {
   "cell_type": "markdown",
   "metadata": {},
   "source": [
    "# Visualize the feature importances"
   ]
  },
  {
   "cell_type": "markdown",
   "metadata": {},
   "source": [
    "Lastly, we extract the feature importances from the best estimator discovered by the grid search. We can see that the best estimator also ranks maximum temperator as the most important feature."
   ]
  },
  {
   "cell_type": "code",
   "execution_count": null,
   "metadata": {},
   "outputs": [],
   "source": [
    "variances = grid.best_estimator_.named_steps['gradientboostingregressor'].feature_importances_\n",
    "series = pd.Series(variances, index=X.columns, name='Explained Variances')\n",
    "plt.figure(figsize=(18,6))\n",
    "plt.bar(series.index,series)\n",
    "plt.show()"
   ]
  }
 ],
 "metadata": {
  "kernelspec": {
   "display_name": "anaconda-2022.05-py39",
   "language": "python",
   "name": "conda-env-anaconda-2022.05-py39-py"
  },
  "language_info": {
   "codemirror_mode": {
    "name": "ipython",
    "version": 3
   },
   "file_extension": ".py",
   "mimetype": "text/x-python",
   "name": "python",
   "nbconvert_exporter": "python",
   "pygments_lexer": "ipython3",
   "version": "3.9.12"
  }
 },
 "nbformat": 4,
 "nbformat_minor": 4
}

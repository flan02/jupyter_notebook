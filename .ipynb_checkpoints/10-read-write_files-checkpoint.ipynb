{
 "cells": [
  {
   "cell_type": "code",
   "execution_count": 49,
   "id": "ec6f5d9b-c964-4c89-a453-44c0f85e990b",
   "metadata": {},
   "outputs": [
    {
     "name": "stdout",
     "output_type": "stream",
     "text": [
      "\n",
      "True\n",
      "\n"
     ]
    }
   ],
   "source": [
    "#File Object\n",
    "## .read()\n",
    "File1 = open(\"example.txt\", \"w\") # r: reading or a: appending\n",
    "File1.name\n",
    "File1.mode\n",
    "File1.close()\n",
    "\n",
    "# with statement avoid us to have to use close() method\n",
    "with open(\"example.txt\", \"r\") as File1:\n",
    "    \n",
    "    file_stuff = File1.read()\n",
    "    \n",
    "    # .readline(int) # int param amount of characters printed for this line\n",
    "    file_stuff = File1.readline() # this method read only one line\n",
    "    file_stuff = File1.readline() # line 2\n",
    "    file_Stuff = File1.readline() # line 3\n",
    "    # We can use a loop to print out each line\n",
    "    for line in File1:\n",
    "        print(line)\n",
    "    \n",
    "    print(file_stuff)\n",
    "\n",
    "print(File1.closed) # we checked if the file is closed.\n",
    "print(file_stuff)\n",
    "# every line is saved as an array\n",
    "# file_stuff[0] -> line1\n",
    "# file_stuff[1] -> line2 ... and so on.\n"
   ]
  },
  {
   "cell_type": "code",
   "execution_count": 51,
   "id": "2c1ae370-758f-4706-a424-ae10806a56f6",
   "metadata": {},
   "outputs": [],
   "source": [
    "#Writting files\n",
    "## .write(\"This is line1\")\n",
    "File1=open(\"example.txt\",\"w\")\n",
    "File1.write(\"This is line 1\")\n",
    "\n",
    "# with enables to run the code and close the file inmediately\n",
    "with open(\"example.txt\", \"w\") as File1:\n",
    "    File1.write(\"This is line A\\n\")\n",
    "    File1.write(\"This is line B\\n\")\n",
    "    Lines=[\"wrote with loop\\n\",\n",
    "           \"wrote with loop\\n\",\n",
    "           \"wrote with loop\\n\",\n",
    "          ]\n",
    "    for line in Lines:\n",
    "        File1.write(line)\n",
    "        \n",
    "# append didn't create a new file, it uses the existing file\n",
    "with open(\"example.txt\", \"a\") as File1:"
   ]
  },
  {
   "cell_type": "code",
   "execution_count": 55,
   "id": "b3fed99e-8bc3-414e-bccf-7e24867f6fdb",
   "metadata": {},
   "outputs": [],
   "source": [
    "#copy one file to a new file as follows:\n",
    "with open(\"example.txt\", \"r\") as readfile:\n",
    "    with open(\"example2.txt\", \"w\") as writefile:\n",
    "        for line in readfile:\n",
    "            writefile.write(line)\n",
    "#the both files are closed."
   ]
  },
  {
   "cell_type": "code",
   "execution_count": null,
   "id": "dc17fe94-66c2-4317-9985-feba486f4d25",
   "metadata": {},
   "outputs": [],
   "source": []
  }
 ],
 "metadata": {
  "kernelspec": {
   "display_name": "anaconda-panel-2023.05-py310",
   "language": "python",
   "name": "conda-env-anaconda-panel-2023.05-py310-py"
  },
  "language_info": {
   "codemirror_mode": {
    "name": "ipython",
    "version": 3
   },
   "file_extension": ".py",
   "mimetype": "text/x-python",
   "name": "python",
   "nbconvert_exporter": "python",
   "pygments_lexer": "ipython3",
   "version": "3.11.4"
  }
 },
 "nbformat": 4,
 "nbformat_minor": 5
}

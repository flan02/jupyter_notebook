{
 "cells": [
  {
   "cell_type": "code",
   "execution_count": 1,
   "id": "49d12e83-21b8-446c-ab27-9a3e208182b4",
   "metadata": {},
   "outputs": [
    {
     "name": "stdout",
     "output_type": "stream",
     "text": [
      "hello python 102\n"
     ]
    }
   ],
   "source": [
    "print('hello python 102')"
   ]
  },
  {
   "cell_type": "code",
   "execution_count": 2,
   "id": "8f4e8f51-07ac-4311-bc04-40cf4a7c904f",
   "metadata": {},
   "outputs": [
    {
     "name": "stdout",
     "output_type": "stream",
     "text": [
      "new hello python 102\n"
     ]
    }
   ],
   "source": [
    "#Nuevamente saludamos\n",
    "print('new hello python 102')"
   ]
  },
  {
   "cell_type": "code",
   "execution_count": 3,
   "id": "8048c5e8-d9b8-4c6a-812e-0532df0ff0c6",
   "metadata": {},
   "outputs": [
    {
     "name": "stdout",
     "output_type": "stream",
     "text": [
      "Hello\n",
      "World!\n"
     ]
    }
   ],
   "source": [
    "print(\"Hello\\nWorld!\")"
   ]
  },
  {
   "cell_type": "code",
   "execution_count": 4,
   "id": "6096c1f8-2c55-494c-ba14-d2006b236d1c",
   "metadata": {
    "tags": []
   },
   "outputs": [
    {
     "data": {
      "text/plain": [
       "float"
      ]
     },
     "execution_count": 4,
     "metadata": {},
     "output_type": "execute_result"
    }
   ],
   "source": [
    "type(21.11)"
   ]
  },
  {
   "cell_type": "code",
   "execution_count": 8,
   "id": "2de5c684-4350-4029-8fde-5221d5fd42b2",
   "metadata": {},
   "outputs": [
    {
     "data": {
      "text/plain": [
       "2.0"
      ]
     },
     "execution_count": 8,
     "metadata": {},
     "output_type": "execute_result"
    }
   ],
   "source": [
    "float(2)"
   ]
  },
  {
   "cell_type": "code",
   "execution_count": 9,
   "id": "463d5d13-7aa4-4f56-ab82-5ab9d4dc1692",
   "metadata": {},
   "outputs": [
    {
     "data": {
      "text/plain": [
       "3"
      ]
     },
     "execution_count": 9,
     "metadata": {},
     "output_type": "execute_result"
    }
   ],
   "source": [
    "int('3')"
   ]
  },
  {
   "cell_type": "code",
   "execution_count": 10,
   "id": "50f4263b-623e-4950-b756-c513fa893627",
   "metadata": {},
   "outputs": [
    {
     "data": {
      "text/plain": [
       "int"
      ]
     },
     "execution_count": 10,
     "metadata": {},
     "output_type": "execute_result"
    }
   ],
   "source": [
    "type(int('3'))"
   ]
  },
  {
   "cell_type": "code",
   "execution_count": 2,
   "id": "cab5a91e-d27f-4feb-a96d-d150eb69f5a4",
   "metadata": {},
   "outputs": [
    {
     "data": {
      "text/plain": [
       "25"
      ]
     },
     "execution_count": 2,
     "metadata": {},
     "output_type": "execute_result"
    }
   ],
   "source": [
    "5*5"
   ]
  },
  {
   "cell_type": "code",
   "execution_count": 4,
   "id": "63f92988-a0a8-4645-ab5f-9de8608a2ba7",
   "metadata": {},
   "outputs": [
    {
     "data": {
      "text/plain": [
       "4.166666666666667"
      ]
     },
     "execution_count": 4,
     "metadata": {},
     "output_type": "execute_result"
    }
   ],
   "source": [
    "25/6"
   ]
  },
  {
   "cell_type": "code",
   "execution_count": null,
   "id": "5c060209-283c-40f1-a2b7-b3b24f213b9e",
   "metadata": {},
   "outputs": [],
   "source": []
  }
 ],
 "metadata": {
  "kernelspec": {
   "display_name": "anaconda-panel-2023.05-py310",
   "language": "python",
   "name": "conda-env-anaconda-panel-2023.05-py310-py"
  },
  "language_info": {
   "codemirror_mode": {
    "name": "ipython",
    "version": 3
   },
   "file_extension": ".py",
   "mimetype": "text/x-python",
   "name": "python",
   "nbconvert_exporter": "python",
   "pygments_lexer": "ipython3",
   "version": "3.11.4"
  }
 },
 "nbformat": 4,
 "nbformat_minor": 5
}

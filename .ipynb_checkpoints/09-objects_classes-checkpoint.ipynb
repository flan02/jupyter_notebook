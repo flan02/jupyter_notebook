{
 "cells": [
  {
   "cell_type": "code",
   "execution_count": null,
   "id": "c7a1bbda-b161-4715-b10f-254b1bb178a7",
   "metadata": {},
   "outputs": [],
   "source": [
    "#Built-in Types in Python\n",
    "##\n",
    "# int, float, string, list, dictionary, bool\n",
    "# each is an Object\n",
    "# every object has:\n",
    "# a type, an internal data representation (a blueprint), methods\n",
    "\n",
    "# an object is an instance of a particular type\n",
    "# every type could have many objects (instance of types)\n"
   ]
  },
  {
   "cell_type": "code",
   "execution_count": 9,
   "id": "a07c8bdd-ea22-4000-92bf-f3cf38bfa77d",
   "metadata": {},
   "outputs": [
    {
     "data": {
      "text/plain": [
       "dict"
      ]
     },
     "execution_count": 9,
     "metadata": {},
     "output_type": "execute_result"
    }
   ],
   "source": [
    "#Objects: Type\n",
    "##\n",
    "#instance of type int\n",
    "A=32\n",
    "#instante of type list\n",
    "B=[1,\"abc\",True]\n",
    "C={\"abc\": 2, \"def\": 3}\n",
    "#You can find the type of a object by using the command:\n",
    "# type()\n",
    "type(B) # return list\n",
    "type(C) # return dict\n"
   ]
  },
  {
   "cell_type": "code",
   "execution_count": null,
   "id": "a907613f-a064-48c4-8658-676c0736c0fa",
   "metadata": {},
   "outputs": [],
   "source": [
    "# Methods\n",
    "##\n",
    "# A class of type's methods are functions that every instance of that class or type provides\n",
    "# It's how you interact with the data in a object\n",
    "Ratings=[10,8,3]\n",
    "Ratings.sort() # the method sort interact with the data in a this object\n",
    "Ratings.reverse()\n"
   ]
  },
  {
   "cell_type": "code",
   "execution_count": null,
   "id": "9595116a-44b1-431f-b730-25d8ea6e2639",
   "metadata": {},
   "outputs": [],
   "source": [
    "#Creating Your Own Types:\n",
    "##Defining Classes\n",
    "# it has data attr, methods\n",
    "\n",
    "class Circle(object): # object is the parent of the class\n",
    "class Rectangle(object):\n",
    "    \n",
    "Object 1: instance of type Rectangle\n",
    "width=2\n",
    "height=2\n",
    "color=blue"
   ]
  },
  {
   "cell_type": "code",
   "execution_count": 15,
   "id": "41ffedd6-20df-4915-a065-71c23c758ffe",
   "metadata": {},
   "outputs": [
    {
     "name": "stdout",
     "output_type": "stream",
     "text": [
      "orangered\n"
     ]
    }
   ],
   "source": [
    "#Instances of a Class: objects\n",
    "class Circle(object):\n",
    "    \"\"\"\n",
    "    __init__: special method or constructor used to initialize data attr.\n",
    "    \"\"\"\n",
    "    def __init__(self,radius,color):\n",
    "        \"\"\"\n",
    "        self: param that refers to the newly created instance of the class\n",
    "        \"\"\"\n",
    "        self.radius=radius;\n",
    "        self.color=color;\n",
    "    \n",
    "\n",
    "class Rectangle(object):\n",
    "    def __init__(self,color,height,width):\n",
    "        self.height=height;\n",
    "        self.width=width;\n",
    "        self.color=color;\n",
    "\n",
    "#Create an Instance of a Class: Circle\n",
    "RedCircle = Circle(10, \"red\")\n",
    "RedCircle.color = \"orangered\"\n",
    "print(RedCircle.color)\n",
    "\n",
    "\n"
   ]
  },
  {
   "cell_type": "code",
   "execution_count": 41,
   "id": "9e095df6-3ca4-47eb-a12a-ca14b6759d6f",
   "metadata": {},
   "outputs": [
    {
     "name": "stdout",
     "output_type": "stream",
     "text": [
      "14\n",
      "True\n"
     ]
    },
    {
     "data": {
      "text/plain": [
       "['__class__',\n",
       " '__delattr__',\n",
       " '__dict__',\n",
       " '__dir__',\n",
       " '__doc__',\n",
       " '__eq__',\n",
       " '__format__',\n",
       " '__ge__',\n",
       " '__getattribute__',\n",
       " '__getstate__',\n",
       " '__gt__',\n",
       " '__hash__',\n",
       " '__init__',\n",
       " '__init_subclass__',\n",
       " '__le__',\n",
       " '__lt__',\n",
       " '__module__',\n",
       " '__ne__',\n",
       " '__new__',\n",
       " '__reduce__',\n",
       " '__reduce_ex__',\n",
       " '__repr__',\n",
       " '__setattr__',\n",
       " '__sizeof__',\n",
       " '__str__',\n",
       " '__subclasshook__',\n",
       " '__weakref__',\n",
       " 'add_radius',\n",
       " 'border',\n",
       " 'color',\n",
       " 'radius']"
      ]
     },
     "execution_count": 41,
     "metadata": {},
     "output_type": "execute_result"
    }
   ],
   "source": [
    "#Methods\n",
    "## it interacts with the object data\n",
    "\n",
    "class Circle(object):\n",
    "    def __init__(self,radius,color, border=True):\n",
    "        self.radius=radius;\n",
    "        self.color=color;\n",
    "        self.border=border; # default value\n",
    "    \n",
    "    def add_radius(self, r):\n",
    "        self.radius= self.radius * 2\n",
    "\n",
    "circle2 = Circle(7,\"black\")\n",
    "circle2.add_radius(2)\n",
    "print(circle2.radius) # it return 7*2 = 14\n",
    "print(circle2.border)\n",
    "\n",
    "dir(circle2) # obtaining the list of data attr and methods associated with a class\n"
   ]
  },
  {
   "cell_type": "code",
   "execution_count": null,
   "id": "f189c751-52f7-4383-89de-4b80b1963d68",
   "metadata": {},
   "outputs": [],
   "source": []
  }
 ],
 "metadata": {
  "kernelspec": {
   "display_name": "anaconda-panel-2023.05-py310",
   "language": "python",
   "name": "conda-env-anaconda-panel-2023.05-py310-py"
  },
  "language_info": {
   "codemirror_mode": {
    "name": "ipython",
    "version": 3
   },
   "file_extension": ".py",
   "mimetype": "text/x-python",
   "name": "python",
   "nbconvert_exporter": "python",
   "pygments_lexer": "ipython3",
   "version": "3.11.4"
  }
 },
 "nbformat": 4,
 "nbformat_minor": 5
}

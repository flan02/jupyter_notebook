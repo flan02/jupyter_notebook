{
 "cells": [
  {
   "cell_type": "code",
   "execution_count": 17,
   "id": "6abacbbd-f745-4e4b-9bd4-55c401444283",
   "metadata": {},
   "outputs": [
    {
     "name": "stdout",
     "output_type": "stream",
     "text": [
      "This is the color that will change: red\n",
      "This is the color that will change: yellow\n",
      "This is the color that will change: green\n",
      "This is the color that will change: purple\n",
      "This is the color that will change: blue\n",
      "['white', 'white', 'white', 'white', 'white']\n"
     ]
    }
   ],
   "source": [
    "#Loops\n",
    "##\n",
    "# Range function\n",
    "range(3) # 0,1,2\n",
    "range(10,15) # 10,11,12,13,14\n",
    "\n",
    "#for Loops\n",
    "squares=[\"red\",\"yellow\",\"green\",\"purple\",\"blue\"]\n",
    "for i in range(0,5):\n",
    "    print(\"This is the color that will change: \" + squares[i])\n",
    "    squares[i] = \"white\"\n",
    "    # i increments every time the loop runs\n",
    "print(squares)"
   ]
  },
  {
   "cell_type": "code",
   "execution_count": 21,
   "id": "7890a250-db3a-40df-a613-c7b9ee17a389",
   "metadata": {},
   "outputs": [
    {
     "name": "stdout",
     "output_type": "stream",
     "text": [
      "red\n",
      "yellow\n",
      "green\n",
      "purple\n",
      "blue\n"
     ]
    }
   ],
   "source": [
    "#we can iterate a list or tuple\n",
    "squares=[\"red\",\"yellow\",\"green\",\"purple\",\"blue\"]\n",
    "for sqr in squares:\n",
    "    print(sqr) # iterate each element in every lap"
   ]
  },
  {
   "cell_type": "code",
   "execution_count": 29,
   "id": "22fab86f-ab03-4c11-a52b-6e10c1f37628",
   "metadata": {},
   "outputs": [
    {
     "name": "stdout",
     "output_type": "stream",
     "text": [
      "0 red\n",
      "1 yellow\n",
      "2 green\n",
      "3 purple\n",
      "4 blue\n"
     ]
    }
   ],
   "source": [
    "squares=[\"red\",\"yellow\",\"green\",\"purple\",\"blue\"]\n",
    "\n",
    "for i,sqr in enumerate(squares):\n",
    "    print(i, sqr)"
   ]
  },
  {
   "cell_type": "code",
   "execution_count": 1,
   "id": "4c849384-f180-4ae1-8513-c70e1425096d",
   "metadata": {},
   "outputs": [
    {
     "name": "stdout",
     "output_type": "stream",
     "text": [
      "['red']\n"
     ]
    }
   ],
   "source": [
    "# while loops\n",
    "##\n",
    "# are similar to \"for loops\". No equals, though.\n",
    "squares=[\"red\",\"yellow\",\"green\",\"purple\",\"blue\",\"red\"]\n",
    "newSquares=[]\n",
    "i=0\n",
    "while(squares[i]==\"red\"):\n",
    "    newSquares.append(squares[i]) # add an item to new tuple\n",
    "    i=i+1\n",
    "    print(newSquares)"
   ]
  },
  {
   "cell_type": "code",
   "execution_count": null,
   "id": "75856493-778d-4194-9cfa-710c61f0d669",
   "metadata": {},
   "outputs": [],
   "source": []
  },
  {
   "cell_type": "code",
   "execution_count": null,
   "id": "2dd619ae-604a-46ec-a20e-4d464c447007",
   "metadata": {},
   "outputs": [],
   "source": []
  }
 ],
 "metadata": {
  "kernelspec": {
   "display_name": "anaconda-panel-2023.05-py310",
   "language": "python",
   "name": "conda-env-anaconda-panel-2023.05-py310-py"
  },
  "language_info": {
   "codemirror_mode": {
    "name": "ipython",
    "version": 3
   },
   "file_extension": ".py",
   "mimetype": "text/x-python",
   "name": "python",
   "nbconvert_exporter": "python",
   "pygments_lexer": "ipython3",
   "version": "3.11.4"
  }
 },
 "nbformat": 4,
 "nbformat_minor": 5
}

{
 "cells": [
  {
   "cell_type": "code",
   "execution_count": 1,
   "id": "49d12e83-21b8-446c-ab27-9a3e208182b4",
   "metadata": {},
   "outputs": [
    {
     "name": "stdout",
     "output_type": "stream",
     "text": [
      "hello python 102\n"
     ]
    }
   ],
   "source": [
    "print('hello python 102')"
   ]
  },
  {
   "cell_type": "code",
   "execution_count": 2,
   "id": "8f4e8f51-07ac-4311-bc04-40cf4a7c904f",
   "metadata": {},
   "outputs": [
    {
     "name": "stdout",
     "output_type": "stream",
     "text": [
      "new hello python 102\n"
     ]
    }
   ],
   "source": [
    "#Nuevamente saludamos\n",
    "print('new hello python 102')"
   ]
  },
  {
   "cell_type": "code",
   "execution_count": 3,
   "id": "8048c5e8-d9b8-4c6a-812e-0532df0ff0c6",
   "metadata": {},
   "outputs": [
    {
     "name": "stdout",
     "output_type": "stream",
     "text": [
      "Hello\n",
      "World!\n"
     ]
    }
   ],
   "source": [
    "print(\"Hello\\nWorld!\")"
   ]
  },
  {
   "cell_type": "code",
   "execution_count": 4,
   "id": "6096c1f8-2c55-494c-ba14-d2006b236d1c",
   "metadata": {
    "tags": []
   },
   "outputs": [
    {
     "data": {
      "text/plain": [
       "float"
      ]
     },
     "execution_count": 4,
     "metadata": {},
     "output_type": "execute_result"
    }
   ],
   "source": [
    "type(21.11)"
   ]
  },
  {
   "cell_type": "code",
   "execution_count": 8,
   "id": "2de5c684-4350-4029-8fde-5221d5fd42b2",
   "metadata": {},
   "outputs": [
    {
     "data": {
      "text/plain": [
       "2.0"
      ]
     },
     "execution_count": 8,
     "metadata": {},
     "output_type": "execute_result"
    }
   ],
   "source": [
    "float(2)"
   ]
  },
  {
   "cell_type": "code",
   "execution_count": 9,
   "id": "463d5d13-7aa4-4f56-ab82-5ab9d4dc1692",
   "metadata": {},
   "outputs": [
    {
     "data": {
      "text/plain": [
       "3"
      ]
     },
     "execution_count": 9,
     "metadata": {},
     "output_type": "execute_result"
    }
   ],
   "source": [
    "int('3')"
   ]
  },
  {
   "cell_type": "code",
   "execution_count": 10,
   "id": "50f4263b-623e-4950-b756-c513fa893627",
   "metadata": {},
   "outputs": [
    {
     "data": {
      "text/plain": [
       "int"
      ]
     },
     "execution_count": 10,
     "metadata": {},
     "output_type": "execute_result"
    }
   ],
   "source": [
    "type(int('3'))"
   ]
  },
  {
   "cell_type": "code",
   "execution_count": 2,
   "id": "cab5a91e-d27f-4feb-a96d-d150eb69f5a4",
   "metadata": {},
   "outputs": [
    {
     "data": {
      "text/plain": [
       "25"
      ]
     },
     "execution_count": 2,
     "metadata": {},
     "output_type": "execute_result"
    }
   ],
   "source": [
    "5*5"
   ]
  },
  {
   "cell_type": "code",
   "execution_count": 4,
   "id": "63f92988-a0a8-4645-ab5f-9de8608a2ba7",
   "metadata": {},
   "outputs": [
    {
     "data": {
      "text/plain": [
       "4.166666666666667"
      ]
     },
     "execution_count": 4,
     "metadata": {},
     "output_type": "execute_result"
    }
   ],
   "source": [
    "25/6"
   ]
  },
  {
   "cell_type": "code",
   "execution_count": 5,
   "id": "5c060209-283c-40f1-a2b7-b3b24f213b9e",
   "metadata": {},
   "outputs": [
    {
     "data": {
      "text/plain": [
       "4"
      ]
     },
     "execution_count": 5,
     "metadata": {},
     "output_type": "execute_result"
    }
   ],
   "source": [
    "25//6"
   ]
  },
  {
   "cell_type": "code",
   "execution_count": 6,
   "id": "2acd78b6-84fd-4e11-be25-d8ef78cc4f29",
   "metadata": {},
   "outputs": [
    {
     "data": {
      "text/plain": [
       "150"
      ]
     },
     "execution_count": 6,
     "metadata": {},
     "output_type": "execute_result"
    }
   ],
   "source": [
    "#Primero se realiza la multiplicacion y luego la suma\n",
    "2*60+30"
   ]
  },
  {
   "cell_type": "code",
   "execution_count": 9,
   "id": "bfd32dd3-f67b-4e46-bbe7-e2f963309c2c",
   "metadata": {},
   "outputs": [
    {
     "data": {
      "text/plain": [
       "150"
      ]
     },
     "execution_count": 9,
     "metadata": {},
     "output_type": "execute_result"
    }
   ],
   "source": [
    "#Primero se realiza la multiplicacion y luego la suma\n",
    "30+2*60"
   ]
  },
  {
   "cell_type": "code",
   "execution_count": 11,
   "id": "871ec4ca-d753-430e-b419-3b5fe3d2930a",
   "metadata": {},
   "outputs": [
    {
     "data": {
      "text/plain": [
       "1920"
      ]
     },
     "execution_count": 11,
     "metadata": {},
     "output_type": "execute_result"
    }
   ],
   "source": [
    "#Tiene prioridad lo que operamos entre parentesis\n",
    "(30+2)*60\n"
   ]
  },
  {
   "cell_type": "code",
   "execution_count": 12,
   "id": "05d2b4e3-d732-48ce-b200-b1d14880e534",
   "metadata": {},
   "outputs": [],
   "source": [
    "my_variable = 1"
   ]
  },
  {
   "cell_type": "code",
   "execution_count": 13,
   "id": "25d635ab-18c1-446f-b07a-ed7d6747290f",
   "metadata": {},
   "outputs": [
    {
     "name": "stdout",
     "output_type": "stream",
     "text": [
      "1\n"
     ]
    }
   ],
   "source": [
    "print(my_variable)"
   ]
  },
  {
   "cell_type": "code",
   "execution_count": 20,
   "id": "69ae1f43-e52c-400b-b3cd-281a9791c5d5",
   "metadata": {},
   "outputs": [],
   "source": [
    "my_variable: 2"
   ]
  },
  {
   "cell_type": "code",
   "execution_count": 29,
   "id": "142b3450-3547-4565-9a58-6c5668c8aecf",
   "metadata": {},
   "outputs": [
    {
     "name": "stdout",
     "output_type": "stream",
     "text": [
      "160\n"
     ]
    },
    {
     "data": {
      "text/plain": [
       "int"
      ]
     },
     "execution_count": 29,
     "metadata": {},
     "output_type": "execute_result"
    }
   ],
   "source": [
    "x=43+60+16+41\n",
    "print(x)\n",
    "type(x)"
   ]
  },
  {
   "cell_type": "code",
   "execution_count": 30,
   "id": "5c7ea821-cdd5-4065-94d3-acdef0fded15",
   "metadata": {},
   "outputs": [
    {
     "name": "stdout",
     "output_type": "stream",
     "text": [
      "2.6666666666666665\n"
     ]
    },
    {
     "data": {
      "text/plain": [
       "float"
      ]
     },
     "execution_count": 30,
     "metadata": {},
     "output_type": "execute_result"
    }
   ],
   "source": [
    "x=x/60\n",
    "print(x)\n",
    "type(x)"
   ]
  },
  {
   "cell_type": "code",
   "execution_count": 24,
   "id": "49d1b632-a5fe-4f13-9363-ec7bb1792f8b",
   "metadata": {},
   "outputs": [
    {
     "name": "stdout",
     "output_type": "stream",
     "text": [
      "2.6666666666666665\n"
     ]
    }
   ],
   "source": [
    "y=x/60\n",
    "print(y)"
   ]
  },
  {
   "cell_type": "code",
   "execution_count": 37,
   "id": "86e915fc-0fdf-47c9-8e96-9767be95cdbe",
   "metadata": {},
   "outputs": [
    {
     "name": "stdout",
     "output_type": "stream",
     "text": [
      "2.533333333333333 hours\n"
     ]
    }
   ],
   "source": [
    "total_min=43+42+67\n",
    "total_hr=total_min/60\n",
    "print(total_hr, \"hours\")"
   ]
  },
  {
   "cell_type": "code",
   "execution_count": null,
   "id": "9081450c-e854-4855-a766-3b2af2b6663a",
   "metadata": {},
   "outputs": [],
   "source": []
  }
 ],
 "metadata": {
  "kernelspec": {
   "display_name": "anaconda-panel-2023.05-py310",
   "language": "python",
   "name": "conda-env-anaconda-panel-2023.05-py310-py"
  },
  "language_info": {
   "codemirror_mode": {
    "name": "ipython",
    "version": 3
   },
   "file_extension": ".py",
   "mimetype": "text/x-python",
   "name": "python",
   "nbconvert_exporter": "python",
   "pygments_lexer": "ipython3",
   "version": "3.11.4"
  }
 },
 "nbformat": 4,
 "nbformat_minor": 5
}

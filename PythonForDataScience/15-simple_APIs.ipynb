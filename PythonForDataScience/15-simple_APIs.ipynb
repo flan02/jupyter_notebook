{
 "cells": [
  {
   "cell_type": "code",
   "execution_count": null,
   "id": "b914b4c0-c61f-49e7-a936-e1a6f90bdd6e",
   "metadata": {},
   "outputs": [],
   "source": [
    "#We use the pandas API to process the data by communicating\n",
    "#with the other Software Components"
   ]
  },
  {
   "cell_type": "code",
   "execution_count": 33,
   "id": "1660e159-3645-4826-8f11-26a2b9153d72",
   "metadata": {},
   "outputs": [],
   "source": [
    "#REST APIs are another popular type of API, they allow you to communicate\n",
    "#through the internet allowing you to take advantage of resources like\n",
    "#storage, access more data, artificial intelligent algorithms, etc\n",
    "\n",
    "#REpresentational State Transfer APIs\n",
    "\n",
    "#The web service is referred to as a resource. The client finds the\n",
    "#service via an endpoint.\n",
    "\n",
    "#Info sharing between Client and WebService is usually returned via a JSON file.\n",
    "\n",
    "#We have a few problems to install the nba api but later we fixed it.\n",
    "# !pip install nba_api\n",
    "\n",
    "from nbaapi.stats.endpoints import playercareerstats\n",
    "# Nikola Jokić\n",
    "career = playercareerstats.PlayerCareerStats(player_id='203999') \n",
    "\n",
    "# pandas data frames (optional: pip install pandas)\n",
    "career.get_data_frames()[0]\n",
    "\n",
    "# json\n",
    "career.get_json()\n",
    "\n",
    "# dictionary\n",
    "career.get_dict()\n"
   ]
  },
  {
   "cell_type": "code",
   "execution_count": null,
   "id": "efd7cff4-ebf4-4692-a6ab-d570d4542a3e",
   "metadata": {},
   "outputs": [],
   "source": [
    "#Simple APIs Part 2\n",
    "# we see apis that use some kind of AI"
   ]
  },
  {
   "cell_type": "code",
   "execution_count": null,
   "id": "68312e0b-3999-4978-bed2-053ac224e3f5",
   "metadata": {},
   "outputs": [],
   "source": [
    "#API keys and endpoints\n",
    "from ibm_watson import SpeechToTextV1\n",
    "url_s2t=\"https://stream.watsonplatform.net/speech-to-text/api\"\n",
    "iam_apikey_s2t=\"abc_key\"\n",
    "s2t=SpeechToTextV1(iam_apikey=iam_apikey_s2t, url=url_s2t)\n",
    "\n",
    "filename=(\"hello_this_is_me.wav\")\n",
    "with open(filename, mode=\"rb\") as wav: # rb = read binary\n",
    "      response = s2t.recognize(audio=wav,content_type=\"audio/wav\")\n",
    "        result.result\n",
    "\n",
    "recognized_text=response.result[\"results\"][0]\n"
   ]
  },
  {
   "cell_type": "code",
   "execution_count": null,
   "id": "20a97120-4b0f-4019-940a-9807aba5b68f",
   "metadata": {},
   "outputs": [],
   "source": [
    "#Watson language translator\n",
    "\n",
    "from ibm_watson import LanguageTranslatorV3\n",
    "url_It = \"https://gateway.watsonplatform.net/language-translator/api\"\n",
    "apikey_It = \"abc_key\"\n",
    "version_It = \"2018-05-01\"\n",
    "language_translator = LanguageTranslatorV3(iam_apikey=apikey_It,url=url_It,version=version_It)\n",
    "language_translator.list_identifiable_languages().get_result()\n",
    "\n",
    "recognized_text=\"Hello Python\"\n",
    "translation_response=language_translator.translate(text=recognized_text, model_id='en-es')\n",
    "translation=translation_response.get_result() #Hola, esta es la piton\n"
   ]
  }
 ],
 "metadata": {
  "kernelspec": {
   "display_name": "anaconda-panel-2023.05-py310",
   "language": "python",
   "name": "conda-env-anaconda-panel-2023.05-py310-py"
  },
  "language_info": {
   "codemirror_mode": {
    "name": "ipython",
    "version": 3
   },
   "file_extension": ".py",
   "mimetype": "text/x-python",
   "name": "python",
   "nbconvert_exporter": "python",
   "pygments_lexer": "ipython3",
   "version": "3.11.4"
  }
 },
 "nbformat": 4,
 "nbformat_minor": 5
}

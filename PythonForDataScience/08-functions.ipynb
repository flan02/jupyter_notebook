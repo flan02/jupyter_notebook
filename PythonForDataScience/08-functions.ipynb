{
 "cells": [
  {
   "cell_type": "code",
   "execution_count": 14,
   "id": "07dd8d4e-5ace-4b74-8486-6b865d09ce1a",
   "metadata": {},
   "outputs": [
    {
     "name": "stdout",
     "output_type": "stream",
     "text": [
      "7\n",
      "59.5\n",
      "[7.0, 7.5, 8.0, 8.5, 9.0, 9.5, 10.0]\n",
      "[7.0, 7.5, 8.0, 8.5, 9.0, 9.5, 10.0]\n"
     ]
    }
   ],
   "source": [
    "# Python functions\n",
    "##\n",
    "#Len\n",
    "album_ratings=[10.0,9.5,9.0,8.5,8.0,7.5,7.0]\n",
    "L=len(album_ratings)\n",
    "print(L) # it returns 7.. Length of this List\n",
    "\n",
    "#Sum\n",
    "album_ratings=[10.0,9.5,9.0,8.5,8.0,7.5,7.0]\n",
    "S=sum(album_ratings)\n",
    "print(S) # it returns all the sum of all elements of the list.\n",
    "\n",
    "#Sorted vs Sort\n",
    "album_ratings=[10.0,9.5,9.0,8.5,8.0,7.5,7.0]\n",
    "sorted_album = sorted(album_ratings) # This method create a new sorted list\n",
    "print(sorted_album)\n",
    "album_ratings.sort() # This method sort the currently list\n",
    "print(album_ratings)\n"
   ]
  },
  {
   "cell_type": "code",
   "execution_count": 24,
   "id": "145b7035-b959-4170-bf9d-9e8db0bc2d0a",
   "metadata": {},
   "outputs": [
    {
     "name": "stdout",
     "output_type": "stream",
     "text": [
      "11\n",
      "Help on function add1 in module __main__:\n",
      "\n",
      "add1(a)\n",
      "    add 1 to a #Documentation String\n",
      "\n"
     ]
    }
   ],
   "source": [
    "# Building our own functions\n",
    "##\n",
    "def add1(a):\n",
    "    \"\"\"\n",
    "    add 1 to a #Documentation String\n",
    "    \"\"\"\n",
    "    b=a+1\n",
    "    return b\n",
    "add1(99) # it returns 100\n",
    "\n",
    "c=add1(10)\n",
    "print(c) # it returns 11\n",
    "\n",
    "help(add1)"
   ]
  },
  {
   "cell_type": "code",
   "execution_count": 38,
   "id": "267a35d0-21f2-48a4-8e90-55f0832aed4a",
   "metadata": {},
   "outputs": [
    {
     "data": {
      "text/plain": [
       "'ElvioElvio'"
      ]
     },
     "execution_count": 38,
     "metadata": {},
     "output_type": "execute_result"
    }
   ],
   "source": [
    "#Function accepts multiple parameters\n",
    "##\n",
    "def Mult(a,b):\n",
    "    c=a*b\n",
    "    return c\n",
    "Mult(2,3) # it returns 6\n",
    "Mult(2, 31.4) # it returns a type float value\n",
    "Mult(2, \"Elvio\") #it returns \"ElvioElvio\""
   ]
  },
  {
   "cell_type": "code",
   "execution_count": 42,
   "id": "84e060a3-bfaf-4a3f-ae9b-b58a965d959b",
   "metadata": {},
   "outputs": [
    {
     "name": "stdout",
     "output_type": "stream",
     "text": [
      "Michael Jackson\n"
     ]
    }
   ],
   "source": [
    "def MJ():\n",
    "    print(\"Michael Jackson\")\n",
    "MJ()"
   ]
  },
  {
   "cell_type": "code",
   "execution_count": 46,
   "id": "8390c7c2-1c8a-43af-b582-8407fa331d30",
   "metadata": {},
   "outputs": [
    {
     "name": "stdout",
     "output_type": "stream",
     "text": [
      "None\n"
     ]
    }
   ],
   "source": [
    "def NoWork():\n",
    "    pass # it doesn't do nothing but avoid the empty body\n",
    "print(NoWork())"
   ]
  },
  {
   "cell_type": "code",
   "execution_count": 54,
   "id": "761360d5-82f7-480b-960f-0929c034a059",
   "metadata": {},
   "outputs": [
    {
     "name": "stdout",
     "output_type": "stream",
     "text": [
      "Album 0 Rating is 10.0\n",
      "Album 1 Rating is 8.5\n",
      "Album 2 Rating is 9.5\n",
      "Help on function printStuff in module __main__:\n",
      "\n",
      "printStuff(Stuff)\n",
      "    printStuff uses a bucle for.\n",
      "\n"
     ]
    }
   ],
   "source": [
    "def printStuff(Stuff):\n",
    "    \"\"\"\n",
    "    printStuff uses a bucle for.\n",
    "    \"\"\"\n",
    "    for i,s in enumerate(Stuff):\n",
    "        print(\"Album\",i,\"Rating is\",s)\n",
    "\n",
    "album_ratings=[10.0,8.5,9.5]\n",
    "printStuff(album_ratings)\n",
    "\n",
    "help(printStuff)"
   ]
  },
  {
   "cell_type": "code",
   "execution_count": 58,
   "id": "85c3987b-845b-437e-81f9-39464b5cf1a2",
   "metadata": {},
   "outputs": [
    {
     "name": "stdout",
     "output_type": "stream",
     "text": [
      "Michael Jackson\n",
      "AC/DC\n",
      "Pink Floyd\n"
     ]
    }
   ],
   "source": [
    "# Variadic Parameters\n",
    "def ArtistNames(*names):\n",
    "    for name in names:\n",
    "        print(name)\n",
    "        \n",
    "ArtistNames(\"Michael Jackson\", \"AC/DC\", \"Pink Floyd\")"
   ]
  },
  {
   "cell_type": "code",
   "execution_count": 72,
   "id": "5b7cb8b3-a4a1-41ad-b328-3906e389bfe7",
   "metadata": {},
   "outputs": [
    {
     "name": "stdout",
     "output_type": "stream",
     "text": [
      "AC/DC\n"
     ]
    }
   ],
   "source": [
    "# Global Scope\n",
    "def AddDC(y):\n",
    "    x=y+\"/DC\"\n",
    "    print(x)\n",
    "    return(x)\n",
    "\n",
    "x=\"AC\"\n",
    "z=AddDC(x)"
   ]
  },
  {
   "cell_type": "code",
   "execution_count": 86,
   "id": "958257ee-00b7-4f3b-9f06-47adf51ccae1",
   "metadata": {},
   "outputs": [
    {
     "name": "stdout",
     "output_type": "stream",
     "text": [
      "Local Scope value 1982\n",
      "Global Scope value 2023\n"
     ]
    }
   ],
   "source": [
    "# Scope: Local Variables\n",
    "def Thriller():\n",
    "    Date=1982\n",
    "    return Date\n",
    "\n",
    "print(\"Local Scope value\", Thriller())\n",
    "\n",
    "Date = 2023\n",
    "print(\"Global Scope value\", Date)"
   ]
  },
  {
   "cell_type": "code",
   "execution_count": 100,
   "id": "bb825d77-b54a-48ba-8565-5919928b6a5d",
   "metadata": {},
   "outputs": [
    {
     "name": "stdout",
     "output_type": "stream",
     "text": [
      "9\n",
      "10\n"
     ]
    }
   ],
   "source": [
    "# Local Scope with a non-define variable\n",
    "## Python checks out the global scope looking for a possible value\n",
    "\n",
    "def ACDC(y):\n",
    "    \"\"\"\n",
    "    print will return a global scope of Rating if it exists.\n",
    "    \"\"\"\n",
    "    print(Rating) # it has no value in local scope \n",
    "    return(Rating+y)\n",
    "\n",
    "Rating=9 # Python will search in the global scope\n",
    "Z=ACDC(1) # it returns 10\n",
    "print(Z)"
   ]
  },
  {
   "cell_type": "code",
   "execution_count": 104,
   "id": "13263741-e2e2-4fff-bb5f-e6cddf648a8a",
   "metadata": {},
   "outputs": [
    {
     "name": "stdout",
     "output_type": "stream",
     "text": [
      "45 millions\n"
     ]
    }
   ],
   "source": [
    "# Global Scope\n",
    "def PinkFloyd():\n",
    "    global ClaimedSales\n",
    "    ClaimedSales=\"45 millions\"\n",
    "    return ClaimedSales\n",
    "\n",
    "PinkFloyd()\n",
    "print(ClaimedSales) # it returns 45 millions"
   ]
  },
  {
   "cell_type": "code",
   "execution_count": null,
   "id": "3290b445-e647-44a1-87fa-f5b3c187e323",
   "metadata": {},
   "outputs": [],
   "source": []
  }
 ],
 "metadata": {
  "kernelspec": {
   "display_name": "anaconda-panel-2023.05-py310",
   "language": "python",
   "name": "conda-env-anaconda-panel-2023.05-py310-py"
  },
  "language_info": {
   "codemirror_mode": {
    "name": "ipython",
    "version": 3
   },
   "file_extension": ".py",
   "mimetype": "text/x-python",
   "name": "python",
   "nbconvert_exporter": "python",
   "pygments_lexer": "ipython3",
   "version": "3.11.4"
  }
 },
 "nbformat": 4,
 "nbformat_minor": 5
}

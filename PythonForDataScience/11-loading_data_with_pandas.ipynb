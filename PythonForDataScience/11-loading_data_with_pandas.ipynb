{
 "cells": [
  {
   "cell_type": "code",
   "execution_count": null,
   "id": "b4571e17-d15e-43e3-8fd3-2768f725c6c6",
   "metadata": {},
   "outputs": [],
   "source": [
    "#Loading Data with Pandas\n",
    "#dependencies or pre-libraries\n",
    "\n",
    "#POPULAR LIBRARY for Data Analysis\n",
    "import pandas # now we can access to a lot of functions and classes\n",
    "csv_path='file1.csv'\n",
    "df=pd.read_csv(csv_path) # df: alias of dataframe\n",
    "df.head()\n",
    "\n"
   ]
  },
  {
   "cell_type": "code",
   "execution_count": null,
   "id": "ee8f847b-7997-47e8-8f0a-9aab2aff54e7",
   "metadata": {},
   "outputs": [],
   "source": [
    "import pandas as pd\n",
    "xlsx_path=\"file1.xlsx\"\n",
    "df=pd.read_excel(xlsx_path)\n",
    "df.head()\n",
    "\n",
    "songs={\"Album\": [\"Thriller\", \"Back in black\"],\n",
    "       \"Released\": [1982,1980]\n",
    "      }\n",
    "song_frame=pd.DataFrame(songs) # we create a table from a dictionary\n",
    "song_frame.head()\n",
    "\n",
    "x=df[[\"Length\"]]\n",
    "y=df[[\"Length\", \"Artist\", \"Released\"]]\n",
    "\n",
    "df.ix[0,0] #[row,col] (col or colName)\n",
    "df.iloc[0,0]\n",
    "    \n",
    "z=df.ix[0:2,0:3] # create a table (x,y) [from:to , from:to] (param2 frontName: toName)"
   ]
  },
  {
   "cell_type": "code",
   "execution_count": null,
   "id": "c1d63db7-40e5-4102-8aeb-a3c9e704e1d3",
   "metadata": {},
   "outputs": [],
   "source": []
  }
 ],
 "metadata": {
  "kernelspec": {
   "display_name": "anaconda-panel-2023.05-py310",
   "language": "python",
   "name": "conda-env-anaconda-panel-2023.05-py310-py"
  },
  "language_info": {
   "codemirror_mode": {
    "name": "ipython",
    "version": 3
   },
   "file_extension": ".py",
   "mimetype": "text/x-python",
   "name": "python",
   "nbconvert_exporter": "python",
   "pygments_lexer": "ipython3",
   "version": "3.11.4"
  }
 },
 "nbformat": 4,
 "nbformat_minor": 5
}

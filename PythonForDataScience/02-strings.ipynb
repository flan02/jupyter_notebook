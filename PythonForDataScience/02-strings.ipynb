{
 "cells": [
  {
   "cell_type": "code",
   "execution_count": null,
   "id": "fecacccf-41b7-4e77-b7d8-ea40ecde0309",
   "metadata": {},
   "outputs": [],
   "source": [
    "# Strings"
   ]
  },
  {
   "cell_type": "code",
   "execution_count": 12,
   "id": "850271ca-706f-4115-9ce7-ff6781691444",
   "metadata": {},
   "outputs": [
    {
     "name": "stdout",
     "output_type": "stream",
     "text": [
      "i\n",
      "a\n",
      "n\n",
      "M\n",
      "Jack\n",
      "McalJcsn\n",
      "Mca\n"
     ]
    }
   ],
   "source": [
    "Name = \"Michael Jackson\"\n",
    "print(Name[1])\n",
    "print(Name[4])\n",
    "print(Name[-1]) # Access to the last position\n",
    "print(Name[-15]) # Invert order of indexes\n",
    "#Slicing\n",
    "print(Name[8:12]) # Jack\n",
    "#Stride\n",
    "print(Name[::2]) # Selects pair of values\n",
    "print(Name[0:5:2]) # Combine Slicing + Stride"
   ]
  },
  {
   "cell_type": "code",
   "execution_count": 17,
   "id": "93f2f18c-b287-4302-9eae-4cafabce69e8",
   "metadata": {},
   "outputs": [
    {
     "name": "stdout",
     "output_type": "stream",
     "text": [
      "15\n",
      "Michael Jackson is the best\n",
      "Michael JacksonMichael JacksonMichael Jackson\n"
     ]
    }
   ],
   "source": [
    "Name = \"Michael Jackson\"\n",
    "# Tuples Slicing\n",
    "print(len(Name))\n",
    "Statement = Name + \" is the best\"\n",
    "print(Statement) # Concat\n",
    "print(3 * Name) # repeat the string 3 times"
   ]
  },
  {
   "cell_type": "code",
   "execution_count": 24,
   "id": "a1e79403-63ca-4a24-9a26-ec7f574bfc38",
   "metadata": {},
   "outputs": [
    {
     "name": "stdout",
     "output_type": "stream",
     "text": [
      "Michael Jackson \t is the best\n",
      "Michael Jackson \\ is the best\n",
      "Michael Jackson \n",
      "is the best\n"
     ]
    }
   ],
   "source": [
    "#String: escape sequences\n",
    "#are meant to proceed espace sequences\n",
    "print(\"Michael Jackson \\t is the best\")\n",
    "print(\"Michael Jackson \\\\ is the best\")\n",
    "#represent a new line\n",
    "print(\"Michael Jackson \\nis the best\")\n"
   ]
  },
  {
   "cell_type": "code",
   "execution_count": 31,
   "id": "1b945e00-e078-4990-a287-b21f75de6686",
   "metadata": {},
   "outputs": [
    {
     "name": "stdout",
     "output_type": "stream",
     "text": [
      "THRILLER IS THE SIXTH\n",
      "Thriller is the fifth\n"
     ]
    },
    {
     "data": {
      "text/plain": [
       "-1"
      ]
     },
     "execution_count": 31,
     "metadata": {},
     "output_type": "execute_result"
    }
   ],
   "source": [
    "#String Methods\n",
    "A=\"Thriller is the sixth\"\n",
    "B=A.upper()\n",
    "print(B)\n",
    "B=A.replace(\"sixth\", \"fifth\") # (str, newStr)\n",
    "print(B)\n",
    "Name = \"Michael Jackson\"\n",
    "Name.find('el')\n",
    "Name.find('Jack') #search for the pos in the string\n"
   ]
  },
  {
   "cell_type": "code",
   "execution_count": null,
   "id": "63844adc-55b0-4b34-b54e-e2f4d1e58904",
   "metadata": {},
   "outputs": [],
   "source": []
  }
 ],
 "metadata": {
  "kernelspec": {
   "display_name": "anaconda-2022.05-py39",
   "language": "python",
   "name": "conda-env-anaconda-2022.05-py39-py"
  },
  "language_info": {
   "codemirror_mode": {
    "name": "ipython",
    "version": 3
   },
   "file_extension": ".py",
   "mimetype": "text/x-python",
   "name": "python",
   "nbconvert_exporter": "python",
   "pygments_lexer": "ipython3",
   "version": "3.9.12"
  }
 },
 "nbformat": 4,
 "nbformat_minor": 5
}

{
 "cells": [
  {
   "cell_type": "code",
   "execution_count": 21,
   "id": "2c201548-4e69-4a8b-9297-5656b38c3e36",
   "metadata": {},
   "outputs": [
    {
     "name": "stdout",
     "output_type": "stream",
     "text": [
      "[[11 12 13]\n",
      " [21 22 23]\n",
      " [31 32 33]]\n"
     ]
    },
    {
     "data": {
      "text/plain": [
       "array([13, 23])"
      ]
     },
     "execution_count": 21,
     "metadata": {},
     "output_type": "execute_result"
    }
   ],
   "source": [
    "#Numpy 2d arrays\n",
    "##\n",
    "import numpy as np\n",
    "a=[[11,12,13],[21,22,23],[31,32,33]]\n",
    "A=np.array(a)\n",
    "print(A)\n",
    "A.ndim # 2  (0,1,2)\n",
    "A.shape # returns the tuple (3,3)\n",
    "A.size # number of elements 3*3 = 9\n",
    "A[0][1] # row0, col1\n",
    "A[0] # row0\n",
    "\n",
    "#Slicing\n",
    "A[0,0:2] # row0, col0,1\n",
    "A[0:2,2] # row0,1 ; col2"
   ]
  },
  {
   "cell_type": "code",
   "execution_count": 51,
   "id": "c84f3085-f629-48d5-ad03-6352c8f62459",
   "metadata": {},
   "outputs": [
    {
     "name": "stdout",
     "output_type": "stream",
     "text": [
      "[[3 1]\n",
      " [1 3]]\n",
      "[[4 2]\n",
      " [2 4]]\n",
      "[[2 0]\n",
      " [0 2]]\n",
      "[[2 1]\n",
      " [1 2]]\n"
     ]
    }
   ],
   "source": [
    "# Numpy 2d arrays Addition\n",
    "##\n",
    "x=np.array([[1,0],[0,1]])\n",
    "y=np.array([[2,1],[1,2]])\n",
    "z=x+y\n",
    "print(z)\n",
    "w= 2*y\n",
    "print(w)\n",
    "t= x*y\n",
    "print(t)\n",
    "v= np.dot(x,y)\n",
    "print(v)"
   ]
  },
  {
   "cell_type": "code",
   "execution_count": 37,
   "id": "83c3b461-d4fd-4feb-b2d8-3418a0ecd0dc",
   "metadata": {},
   "outputs": [
    {
     "name": "stdout",
     "output_type": "stream",
     "text": [
      "[[-1  2]\n",
      " [ 0  1]]\n"
     ]
    }
   ],
   "source": [
    "#Matrix multiplication\n",
    "#matA=2x3 3x2=matB -> matAB= 2x2\n",
    "\n",
    "A=np.array([[0,1,1],[1,0,1]]) # 2x3\n",
    "B=np.array([[1,0],[0,1],[-1,1]]) #3x2\n",
    "C=np.dot(A,B)\n",
    "print(C)"
   ]
  },
  {
   "cell_type": "code",
   "execution_count": null,
   "id": "277ebe43-5ce0-4b46-81cd-02d8ee12471f",
   "metadata": {},
   "outputs": [],
   "source": []
  }
 ],
 "metadata": {
  "kernelspec": {
   "display_name": "anaconda-panel-2023.05-py310",
   "language": "python",
   "name": "conda-env-anaconda-panel-2023.05-py310-py"
  },
  "language_info": {
   "codemirror_mode": {
    "name": "ipython",
    "version": 3
   },
   "file_extension": ".py",
   "mimetype": "text/x-python",
   "name": "python",
   "nbconvert_exporter": "python",
   "pygments_lexer": "ipython3",
   "version": "3.11.4"
  }
 },
 "nbformat": 4,
 "nbformat_minor": 5
}

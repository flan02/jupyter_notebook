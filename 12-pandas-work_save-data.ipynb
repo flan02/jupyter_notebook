{
 "cells": [
  {
   "cell_type": "code",
   "execution_count": null,
   "id": "9cc77294-e847-4fca-8112-7d7db3cba9c5",
   "metadata": {},
   "outputs": [],
   "source": [
    "#Pandas working with and saving data\n",
    "##\n",
    "# when we have a dataframe we can work with the data\n",
    "# after that you can save the results in other formats\n",
    "\n",
    "#list unique values\n",
    "df[\"colName\"].unique() # extract values without repeat\n",
    "df[\"colName\"]>=2023 # We can use operators returns True or False.\n",
    "\n",
    "df1=df[df[\"colName\"]>=2023] # We obtain a new dataframe"
   ]
  },
  {
   "cell_type": "code",
   "execution_count": null,
   "id": "b1cb58ee-58da-427c-84d6-bff621c9e508",
   "metadata": {},
   "outputs": [],
   "source": [
    "#Save a dataframe as CSV\n",
    "df1.to_csv(\"new_songs.csv\")"
   ]
  }
 ],
 "metadata": {
  "kernelspec": {
   "display_name": "anaconda-panel-2023.05-py310",
   "language": "python",
   "name": "conda-env-anaconda-panel-2023.05-py310-py"
  },
  "language_info": {
   "codemirror_mode": {
    "name": "ipython",
    "version": 3
   },
   "file_extension": ".py",
   "mimetype": "text/x-python",
   "name": "python",
   "nbconvert_exporter": "python",
   "pygments_lexer": "ipython3",
   "version": "3.11.4"
  }
 },
 "nbformat": 4,
 "nbformat_minor": 5
}
